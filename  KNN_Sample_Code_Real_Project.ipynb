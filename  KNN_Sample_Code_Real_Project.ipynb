{
 "cells": [
  {
   "cell_type": "markdown",
   "id": "a98a9999",
   "metadata": {},
   "source": [
    "## import libaries"
   ]
  },
  {
   "cell_type": "code",
   "execution_count": 2,
   "id": "c815eb4d",
   "metadata": {},
   "outputs": [],
   "source": [
    "import numpy as np\n",
    "import pandas as pd\n",
    "import matplotlib.pyplot as plt\n",
    "from sklearn import preprocessing"
   ]
  },
  {
   "cell_type": "markdown",
   "id": "12cd7fce",
   "metadata": {},
   "source": [
    "## Reading data from csv file"
   ]
  },
  {
   "cell_type": "code",
   "execution_count": 6,
   "id": "dda7280f",
   "metadata": {},
   "outputs": [
    {
     "data": {
      "text/html": [
       "<div>\n",
       "<style scoped>\n",
       "    .dataframe tbody tr th:only-of-type {\n",
       "        vertical-align: middle;\n",
       "    }\n",
       "\n",
       "    .dataframe tbody tr th {\n",
       "        vertical-align: top;\n",
       "    }\n",
       "\n",
       "    .dataframe thead th {\n",
       "        text-align: right;\n",
       "    }\n",
       "</style>\n",
       "<table border=\"1\" class=\"dataframe\">\n",
       "  <thead>\n",
       "    <tr style=\"text-align: right;\">\n",
       "      <th></th>\n",
       "      <th>Unnamed: 0</th>\n",
       "      <th>WTT</th>\n",
       "      <th>PTI</th>\n",
       "      <th>EQW</th>\n",
       "      <th>SBI</th>\n",
       "      <th>LQE</th>\n",
       "      <th>QWG</th>\n",
       "      <th>FDJ</th>\n",
       "      <th>PJF</th>\n",
       "      <th>HQE</th>\n",
       "      <th>NXJ</th>\n",
       "      <th>TARGET CLASS</th>\n",
       "    </tr>\n",
       "  </thead>\n",
       "  <tbody>\n",
       "    <tr>\n",
       "      <th>0</th>\n",
       "      <td>0</td>\n",
       "      <td>0.913917</td>\n",
       "      <td>1.162073</td>\n",
       "      <td>0.567946</td>\n",
       "      <td>0.755464</td>\n",
       "      <td>0.780862</td>\n",
       "      <td>0.352608</td>\n",
       "      <td>0.759697</td>\n",
       "      <td>0.643798</td>\n",
       "      <td>0.879422</td>\n",
       "      <td>1.231409</td>\n",
       "      <td>1</td>\n",
       "    </tr>\n",
       "    <tr>\n",
       "      <th>1</th>\n",
       "      <td>1</td>\n",
       "      <td>0.635632</td>\n",
       "      <td>1.003722</td>\n",
       "      <td>0.535342</td>\n",
       "      <td>0.825645</td>\n",
       "      <td>0.924109</td>\n",
       "      <td>0.648450</td>\n",
       "      <td>0.675334</td>\n",
       "      <td>1.013546</td>\n",
       "      <td>0.621552</td>\n",
       "      <td>1.492702</td>\n",
       "      <td>0</td>\n",
       "    </tr>\n",
       "    <tr>\n",
       "      <th>2</th>\n",
       "      <td>2</td>\n",
       "      <td>0.721360</td>\n",
       "      <td>1.201493</td>\n",
       "      <td>0.921990</td>\n",
       "      <td>0.855595</td>\n",
       "      <td>1.526629</td>\n",
       "      <td>0.720781</td>\n",
       "      <td>1.626351</td>\n",
       "      <td>1.154483</td>\n",
       "      <td>0.957877</td>\n",
       "      <td>1.285597</td>\n",
       "      <td>0</td>\n",
       "    </tr>\n",
       "    <tr>\n",
       "      <th>3</th>\n",
       "      <td>3</td>\n",
       "      <td>1.234204</td>\n",
       "      <td>1.386726</td>\n",
       "      <td>0.653046</td>\n",
       "      <td>0.825624</td>\n",
       "      <td>1.142504</td>\n",
       "      <td>0.875128</td>\n",
       "      <td>1.409708</td>\n",
       "      <td>1.380003</td>\n",
       "      <td>1.522692</td>\n",
       "      <td>1.153093</td>\n",
       "      <td>1</td>\n",
       "    </tr>\n",
       "    <tr>\n",
       "      <th>4</th>\n",
       "      <td>4</td>\n",
       "      <td>1.279491</td>\n",
       "      <td>0.949750</td>\n",
       "      <td>0.627280</td>\n",
       "      <td>0.668976</td>\n",
       "      <td>1.232537</td>\n",
       "      <td>0.703727</td>\n",
       "      <td>1.115596</td>\n",
       "      <td>0.646691</td>\n",
       "      <td>1.463812</td>\n",
       "      <td>1.419167</td>\n",
       "      <td>1</td>\n",
       "    </tr>\n",
       "    <tr>\n",
       "      <th>5</th>\n",
       "      <td>5</td>\n",
       "      <td>0.833928</td>\n",
       "      <td>1.523302</td>\n",
       "      <td>1.104743</td>\n",
       "      <td>1.021139</td>\n",
       "      <td>1.107377</td>\n",
       "      <td>1.010930</td>\n",
       "      <td>1.279538</td>\n",
       "      <td>1.280677</td>\n",
       "      <td>0.510350</td>\n",
       "      <td>1.528044</td>\n",
       "      <td>0</td>\n",
       "    </tr>\n",
       "    <tr>\n",
       "      <th>6</th>\n",
       "      <td>6</td>\n",
       "      <td>0.944705</td>\n",
       "      <td>1.251761</td>\n",
       "      <td>1.074885</td>\n",
       "      <td>0.286473</td>\n",
       "      <td>0.996440</td>\n",
       "      <td>0.428860</td>\n",
       "      <td>0.910805</td>\n",
       "      <td>0.755305</td>\n",
       "      <td>1.111800</td>\n",
       "      <td>1.110842</td>\n",
       "      <td>0</td>\n",
       "    </tr>\n",
       "    <tr>\n",
       "      <th>7</th>\n",
       "      <td>7</td>\n",
       "      <td>0.816174</td>\n",
       "      <td>1.088392</td>\n",
       "      <td>0.895343</td>\n",
       "      <td>0.243860</td>\n",
       "      <td>0.943123</td>\n",
       "      <td>1.045131</td>\n",
       "      <td>1.146536</td>\n",
       "      <td>1.341886</td>\n",
       "      <td>1.225324</td>\n",
       "      <td>1.425784</td>\n",
       "      <td>0</td>\n",
       "    </tr>\n",
       "    <tr>\n",
       "      <th>8</th>\n",
       "      <td>8</td>\n",
       "      <td>0.776551</td>\n",
       "      <td>1.463812</td>\n",
       "      <td>0.783825</td>\n",
       "      <td>0.337278</td>\n",
       "      <td>0.742215</td>\n",
       "      <td>1.072756</td>\n",
       "      <td>0.880300</td>\n",
       "      <td>1.312951</td>\n",
       "      <td>1.118165</td>\n",
       "      <td>1.225922</td>\n",
       "      <td>0</td>\n",
       "    </tr>\n",
       "    <tr>\n",
       "      <th>9</th>\n",
       "      <td>9</td>\n",
       "      <td>0.772280</td>\n",
       "      <td>0.515111</td>\n",
       "      <td>0.891596</td>\n",
       "      <td>0.940862</td>\n",
       "      <td>1.430568</td>\n",
       "      <td>0.885876</td>\n",
       "      <td>1.205231</td>\n",
       "      <td>0.596858</td>\n",
       "      <td>1.542580</td>\n",
       "      <td>0.981879</td>\n",
       "      <td>1</td>\n",
       "    </tr>\n",
       "  </tbody>\n",
       "</table>\n",
       "</div>"
      ],
      "text/plain": [
       "   Unnamed: 0       WTT       PTI       EQW       SBI       LQE       QWG  \\\n",
       "0           0  0.913917  1.162073  0.567946  0.755464  0.780862  0.352608   \n",
       "1           1  0.635632  1.003722  0.535342  0.825645  0.924109  0.648450   \n",
       "2           2  0.721360  1.201493  0.921990  0.855595  1.526629  0.720781   \n",
       "3           3  1.234204  1.386726  0.653046  0.825624  1.142504  0.875128   \n",
       "4           4  1.279491  0.949750  0.627280  0.668976  1.232537  0.703727   \n",
       "5           5  0.833928  1.523302  1.104743  1.021139  1.107377  1.010930   \n",
       "6           6  0.944705  1.251761  1.074885  0.286473  0.996440  0.428860   \n",
       "7           7  0.816174  1.088392  0.895343  0.243860  0.943123  1.045131   \n",
       "8           8  0.776551  1.463812  0.783825  0.337278  0.742215  1.072756   \n",
       "9           9  0.772280  0.515111  0.891596  0.940862  1.430568  0.885876   \n",
       "\n",
       "        FDJ       PJF       HQE       NXJ  TARGET CLASS  \n",
       "0  0.759697  0.643798  0.879422  1.231409             1  \n",
       "1  0.675334  1.013546  0.621552  1.492702             0  \n",
       "2  1.626351  1.154483  0.957877  1.285597             0  \n",
       "3  1.409708  1.380003  1.522692  1.153093             1  \n",
       "4  1.115596  0.646691  1.463812  1.419167             1  \n",
       "5  1.279538  1.280677  0.510350  1.528044             0  \n",
       "6  0.910805  0.755305  1.111800  1.110842             0  \n",
       "7  1.146536  1.341886  1.225324  1.425784             0  \n",
       "8  0.880300  1.312951  1.118165  1.225922             0  \n",
       "9  1.205231  0.596858  1.542580  0.981879             1  "
      ]
     },
     "execution_count": 6,
     "metadata": {},
     "output_type": "execute_result"
    }
   ],
   "source": [
    "dataframe = pd.read_csv(\"Classified Data\")\n",
    "dataframe.head(10)"
   ]
  },
  {
   "cell_type": "markdown",
   "id": "2fff397a",
   "metadata": {},
   "source": [
    "### Let’s see how many of each class is in our data set"
   ]
  },
  {
   "cell_type": "code",
   "execution_count": 8,
   "id": "fb4b1799",
   "metadata": {},
   "outputs": [
    {
     "data": {
      "text/plain": [
       "TARGET CLASS\n",
       "1    500\n",
       "0    500\n",
       "Name: count, dtype: int64"
      ]
     },
     "execution_count": 8,
     "metadata": {},
     "output_type": "execute_result"
    }
   ],
   "source": [
    "dataframe['TARGET CLASS'].value_counts()"
   ]
  },
  {
   "cell_type": "markdown",
   "id": "845814e7",
   "metadata": {},
   "source": [
    "### Feature set"
   ]
  },
  {
   "cell_type": "code",
   "execution_count": 9,
   "id": "a0430818",
   "metadata": {},
   "outputs": [
    {
     "data": {
      "text/plain": [
       "array([[0.91391733, 1.16207271, 0.56794585, 0.7554639 , 0.78086157,\n",
       "        0.35260772, 0.75969691, 0.64379756, 0.87942209, 1.23140944],\n",
       "       [0.6356319 , 1.00372163, 0.53534235, 0.82564485, 0.92410893,\n",
       "        0.64845024, 0.67533431, 1.01354599, 0.62155222, 1.4927016 ],\n",
       "       [0.72135981, 1.20149262, 0.92198973, 0.85559498, 1.52662939,\n",
       "        0.72078089, 1.62635071, 1.15448315, 0.95787702, 1.28559679],\n",
       "       [1.2342044 , 1.38672629, 0.65304631, 0.82562445, 1.14250354,\n",
       "        0.87512792, 1.40970806, 1.38000255, 1.52269205, 1.15309302],\n",
       "       [1.27949082, 0.94974956, 0.62728004, 0.66897608, 1.2325373 ,\n",
       "        0.70372744, 1.1155955 , 0.6466907 , 1.46381175, 1.41916658]])"
      ]
     },
     "execution_count": 9,
     "metadata": {},
     "output_type": "execute_result"
    }
   ],
   "source": [
    "dataframe.columns\n",
    "x = dataframe[['WTT', 'PTI','EQW', 'SBI', 'LQE', 'QWG', 'FDJ', 'PJF','HQE', 'NXJ']] .values\n",
    "x[0:5]"
   ]
  },
  {
   "cell_type": "code",
   "execution_count": 10,
   "id": "2eb8db41",
   "metadata": {},
   "outputs": [
    {
     "data": {
      "text/plain": [
       "array([1, 0, 0, 1, 1], dtype=int64)"
      ]
     },
     "execution_count": 10,
     "metadata": {},
     "output_type": "execute_result"
    }
   ],
   "source": [
    "y = dataframe['TARGET CLASS'].values\n",
    "y[0:5]"
   ]
  },
  {
   "cell_type": "markdown",
   "id": "9926592b",
   "metadata": {},
   "source": [
    "### Normalize Data"
   ]
  },
  {
   "cell_type": "code",
   "execution_count": 16,
   "id": "9b633b88",
   "metadata": {},
   "outputs": [
    {
     "name": "stdout",
     "output_type": "stream",
     "text": [
      "[[0.91391733 1.16207271 0.56794585 0.7554639  0.78086157 0.35260772\n",
      "  0.75969691 0.64379756 0.87942209 1.23140944]\n",
      " [0.6356319  1.00372163 0.53534235 0.82564485 0.92410893 0.64845024\n",
      "  0.67533431 1.01354599 0.62155222 1.4927016 ]\n",
      " [0.72135981 1.20149262 0.92198973 0.85559498 1.52662939 0.72078089\n",
      "  1.62635071 1.15448315 0.95787702 1.28559679]\n",
      " [1.2342044  1.38672629 0.65304631 0.82562445 1.14250354 0.87512792\n",
      "  1.40970806 1.38000255 1.52269205 1.15309302]\n",
      " [1.27949082 0.94974956 0.62728004 0.66897608 1.2325373  0.70372744\n",
      "  1.1155955  0.6466907  1.46381175 1.41916658]]\n",
      "[[-0.12354188  0.18590747 -0.91343069  0.31962911 -1.03363681 -2.3083747\n",
      "  -0.79895135 -1.48236813 -0.9497194  -0.64331425]\n",
      " [-1.08483602 -0.43034845 -1.02531333  0.62538826 -0.44484713 -1.15270604\n",
      "  -1.12979749 -0.20224031 -1.82805088  0.63675862]\n",
      " [-0.78870217  0.33931821  0.30151137  0.75587279  2.03169299 -0.87015616\n",
      "   2.59981844  0.28570652 -0.68249379 -0.37784986]\n",
      " [ 0.9828405   1.06019327 -0.62139875  0.62529938  0.45282034 -0.26722041\n",
      "   1.75020756  1.06649052  1.24132463 -1.02698711]\n",
      " [ 1.13927548 -0.64039191 -0.70981864 -0.05717457  0.82288616 -0.93677314\n",
      "   0.59678173 -1.47235164  1.04077225  0.2765098 ]]\n"
     ]
    }
   ],
   "source": [
    "print (x[0:5])\n",
    "scaler = preprocessing.StandardScaler().fit(x)\n",
    "x = scaler.transform(x.astype(float))\n",
    "print (x[0:5])"
   ]
  },
  {
   "cell_type": "markdown",
   "id": "461676de",
   "metadata": {},
   "source": [
    "### Train and Test data"
   ]
  },
  {
   "cell_type": "code",
   "execution_count": 17,
   "id": "a43240da",
   "metadata": {},
   "outputs": [
    {
     "name": "stdout",
     "output_type": "stream",
     "text": [
      "Train set: (800, 10) (800,)\n",
      "Test set: (200, 10) (200,)\n"
     ]
    }
   ],
   "source": [
    "from sklearn.model_selection import train_test_split\n",
    "x_train, x_test, y_train, y_test = train_test_split( x, y, test_size=0.2, random_state=4)\n",
    "print ('Train set:', x_train.shape,  y_train.shape)\n",
    "print ('Test set:', x_test.shape,  y_test.shape)"
   ]
  },
  {
   "cell_type": "markdown",
   "id": "46f4b72c",
   "metadata": {},
   "source": [
    "## Classification\n",
    "### K nearest neighbor (KNN)"
   ]
  },
  {
   "cell_type": "markdown",
   "id": "ef9de336",
   "metadata": {},
   "source": [
    "### import libary"
   ]
  },
  {
   "cell_type": "code",
   "execution_count": 18,
   "id": "67738c80",
   "metadata": {},
   "outputs": [],
   "source": [
    "from sklearn.neighbors import KNeighborsClassifier"
   ]
  },
  {
   "cell_type": "markdown",
   "id": "b83e7a3a",
   "metadata": {},
   "source": [
    "#### We can calculate the accuracy of KNN for different values of k."
   ]
  },
  {
   "cell_type": "code",
   "execution_count": 21,
   "id": "3d11f299",
   "metadata": {},
   "outputs": [
    {
     "data": {
      "text/plain": [
       "array([0.92 , 0.895, 0.95 , 0.935, 0.93 , 0.94 , 0.94 , 0.94 , 0.93 ])"
      ]
     },
     "execution_count": 21,
     "metadata": {},
     "output_type": "execute_result"
    }
   ],
   "source": [
    "from sklearn import metrics\n",
    "Ks = 10\n",
    "mean_acc = np.zeros((Ks-1))\n",
    "std_acc = np.zeros((Ks-1))\n",
    "\n",
    "for n in range(1,Ks):\n",
    "    \n",
    "    #Train Model and Predict  \n",
    "    neigh = KNeighborsClassifier(n_neighbors = n).fit(x_train,y_train)\n",
    "    yhat=neigh.predict(x_test)\n",
    "    mean_acc[n-1] = metrics.accuracy_score(y_test, yhat)\n",
    "\n",
    "    \n",
    "    std_acc[n-1]=np.std(yhat==y_test)/np.sqrt(yhat.shape[0])\n",
    "\n",
    "mean_acc"
   ]
  },
  {
   "cell_type": "markdown",
   "id": "37368bea",
   "metadata": {},
   "source": [
    "#### Plot the model accuracy for a different number of neighbors."
   ]
  },
  {
   "cell_type": "code",
   "execution_count": 22,
   "id": "d8c4e6dc",
   "metadata": {},
   "outputs": [
    {
     "data": {
      "image/png": "[encoded data removed]",
      "text/plain": [
       "<Figure size 640x480 with 1 Axes>"
      ]
     },
     "metadata": {},
     "output_type": "display_data"
    }
   ],
   "source": [
    "plt.plot(range(1,Ks),mean_acc,'g')\n",
    "plt.fill_between(range(1,Ks),mean_acc - 1 * std_acc,mean_acc + 1 * std_acc, alpha=0.10)\n",
    "plt.fill_between(range(1,Ks),mean_acc - 3 * std_acc,mean_acc + 3 * std_acc, alpha=0.10,color=\"green\")\n",
    "plt.legend(('Accuracy ', '+/- 1xstd','+/- 3xstd'))\n",
    "plt.ylabel('Accuracy ')\n",
    "plt.xlabel('Number of Neighbors (K)')\n",
    "plt.tight_layout()\n",
    "plt.show()"
   ]
  },
  {
   "cell_type": "code",
   "execution_count": 23,
   "id": "4a307ea7",
   "metadata": {},
   "outputs": [
    {
     "name": "stdout",
     "output_type": "stream",
     "text": [
      "The best accuracy was with 0.95 with k= 3\n"
     ]
    }
   ],
   "source": [
    "print( \"The best accuracy was with\", mean_acc.max(), \"with k=\", mean_acc.argmax()+1) "
   ]
  },
  {
   "cell_type": "markdown",
   "id": "cad7b171",
   "metadata": {},
   "source": [
    "### Training"
   ]
  },
  {
   "cell_type": "code",
   "execution_count": 24,
   "id": "34bbbe13",
   "metadata": {},
   "outputs": [
    {
     "data": {
      "text/html": [
       "<style>#sk-container-id-1 {color: black;}#sk-container-id-1 pre{padding: 0;}#sk-container-id-1 div.sk-toggleable {background-color: white;}#sk-container-id-1 label.sk-toggleable__label {cursor: pointer;display: block;width: 100%;margin-bottom: 0;padding: 0.3em;box-sizing: border-box;text-align: center;}#sk-container-id-1 label.sk-toggleable__label-arrow:before {content: \"▸\";float: left;margin-right: 0.25em;color: #696969;}#sk-container-id-1 label.sk-toggleable__label-arrow:hover:before {color: black;}#sk-container-id-1 div.sk-estimator:hover label.sk-toggleable__label-arrow:before {color: black;}#sk-container-id-1 div.sk-toggleable__content {max-height: 0;max-width: 0;overflow: hidden;text-align: left;background-color: #f0f8ff;}#sk-container-id-1 div.sk-toggleable__content pre {margin: 0.2em;color: black;border-radius: 0.25em;background-color: #f0f8ff;}#sk-container-id-1 input.sk-toggleable__control:checked~div.sk-toggleable__content {max-height: 200px;max-width: 100%;overflow: auto;}#sk-container-id-1 input.sk-toggleable__control:checked~label.sk-toggleable__label-arrow:before {content: \"▾\";}#sk-container-id-1 div.sk-estimator input.sk-toggleable__control:checked~label.sk-toggleable__label {background-color: #d4ebff;}#sk-container-id-1 div.sk-label input.sk-toggleable__control:checked~label.sk-toggleable__label {background-color: #d4ebff;}#sk-container-id-1 input.sk-hidden--visually {border: 0;clip: rect(1px 1px 1px 1px);clip: rect(1px, 1px, 1px, 1px);height: 1px;margin: -1px;overflow: hidden;padding: 0;position: absolute;width: 1px;}#sk-container-id-1 div.sk-estimator {font-family: monospace;background-color: #f0f8ff;border: 1px dotted black;border-radius: 0.25em;box-sizing: border-box;margin-bottom: 0.5em;}#sk-container-id-1 div.sk-estimator:hover {background-color: #d4ebff;}#sk-container-id-1 div.sk-parallel-item::after {content: \"\";width: 100%;border-bottom: 1px solid gray;flex-grow: 1;}#sk-container-id-1 div.sk-label:hover label.sk-toggleable__label {background-color: #d4ebff;}#sk-container-id-1 div.sk-serial::before {content: \"\";position: absolute;border-left: 1px solid gray;box-sizing: border-box;top: 0;bottom: 0;left: 50%;z-index: 0;}#sk-container-id-1 div.sk-serial {display: flex;flex-direction: column;align-items: center;background-color: white;padding-right: 0.2em;padding-left: 0.2em;position: relative;}#sk-container-id-1 div.sk-item {position: relative;z-index: 1;}#sk-container-id-1 div.sk-parallel {display: flex;align-items: stretch;justify-content: center;background-color: white;position: relative;}#sk-container-id-1 div.sk-item::before, #sk-container-id-1 div.sk-parallel-item::before {content: \"\";position: absolute;border-left: 1px solid gray;box-sizing: border-box;top: 0;bottom: 0;left: 50%;z-index: -1;}#sk-container-id-1 div.sk-parallel-item {display: flex;flex-direction: column;z-index: 1;position: relative;background-color: white;}#sk-container-id-1 div.sk-parallel-item:first-child::after {align-self: flex-end;width: 50%;}#sk-container-id-1 div.sk-parallel-item:last-child::after {align-self: flex-start;width: 50%;}#sk-container-id-1 div.sk-parallel-item:only-child::after {width: 0;}#sk-container-id-1 div.sk-dashed-wrapped {border: 1px dashed gray;margin: 0 0.4em 0.5em 0.4em;box-sizing: border-box;padding-bottom: 0.4em;background-color: white;}#sk-container-id-1 div.sk-label label {font-family: monospace;font-weight: bold;display: inline-block;line-height: 1.2em;}#sk-container-id-1 div.sk-label-container {text-align: center;}#sk-container-id-1 div.sk-container {/* jupyter's `normalize.less` sets `[hidden] { display: none; }` but bootstrap.min.css set `[hidden] { display: none !important; }` so we also need the `!important` here to be able to override the default hidden behavior on the sphinx rendered scikit-learn.org. See: https://github.com/scikit-learn/scikit-learn/issues/21755 */display: inline-block !important;position: relative;}#sk-container-id-1 div.sk-text-repr-fallback {display: none;}</style><div id=\"sk-container-id-1\" class=\"sk-top-container\"><div class=\"sk-text-repr-fallback\"><pre>KNeighborsClassifier(n_neighbors=3)</pre><b>In a Jupyter environment, please rerun this cell to show the HTML representation or trust the notebook. <br />On GitHub, the HTML representation is unable to render, please try loading this page with nbviewer.org.</b></div><div class=\"sk-container\" hidden><div class=\"sk-item\"><div class=\"sk-estimator sk-toggleable\"><input class=\"sk-toggleable__control sk-hidden--visually\" id=\"sk-estimator-id-1\" type=\"checkbox\" checked><label for=\"sk-estimator-id-1\" class=\"sk-toggleable__label sk-toggleable__label-arrow\">KNeighborsClassifier</label><div class=\"sk-toggleable__content\"><pre>KNeighborsClassifier(n_neighbors=3)</pre></div></div></div></div></div>"
      ],
      "text/plain": [
       "KNeighborsClassifier(n_neighbors=3)"
      ]
     },
     "execution_count": 24,
     "metadata": {},
     "output_type": "execute_result"
    }
   ],
   "source": [
    "k = 3\n",
    "#Train Model and Predict  \n",
    "neigh = KNeighborsClassifier(n_neighbors = k).fit(x_train,y_train)\n",
    "neigh"
   ]
  },
  {
   "cell_type": "markdown",
   "id": "43c6072c",
   "metadata": {},
   "source": [
    "### Predicting"
   ]
  },
  {
   "cell_type": "code",
   "execution_count": 25,
   "id": "c4f7924c",
   "metadata": {},
   "outputs": [
    {
     "name": "stdout",
     "output_type": "stream",
     "text": [
      "[1 1 0 1 0]\n",
      "[1 0 0 1 1]\n"
     ]
    }
   ],
   "source": [
    "yhat = neigh.predict(x_test)\n",
    "print (yhat[0:5])\n",
    "print (y[0:5])"
   ]
  },
  {
   "cell_type": "markdown",
   "id": "9b8289d8",
   "metadata": {},
   "source": [
    "### Accuracy evaluation"
   ]
  },
  {
   "cell_type": "code",
   "execution_count": 26,
   "id": "27e7cbe4",
   "metadata": {},
   "outputs": [
    {
     "name": "stdout",
     "output_type": "stream",
     "text": [
      "Train set Accuracy:  0.9575\n",
      "Test set Accuracy:  0.95\n"
     ]
    }
   ],
   "source": [
    "print(\"Train set Accuracy: \", metrics.accuracy_score(y_train, neigh.predict(x_train)))\n",
    "print(\"Test set Accuracy: \", metrics.accuracy_score(y_test, yhat)) "
   ]
  },
  {
   "cell_type": "markdown",
   "id": "04d8f2f1",
   "metadata": {},
   "source": [
    "### Test model with new data"
   ]
  },
  {
   "cell_type": "code",
   "execution_count": 27,
   "id": "f908a166",
   "metadata": {},
   "outputs": [
    {
     "data": {
      "text/plain": [
       "array([1], dtype=int64)"
      ]
     },
     "execution_count": 27,
     "metadata": {},
     "output_type": "execute_result"
    }
   ],
   "source": [
    "nx = [[0.915617, 1.200373, 0.567946 ,0.75894, 0.780862,0.352608, 0.759697, 0.643798, 0.879422, 1.19909]]\n",
    "nxs = scaler.transform(nx)\n",
    "neigh.predict(nxs)"
   ]
  },
  {
   "cell_type": "code",
   "execution_count": null,
   "id": "3ec9c26d",
   "metadata": {},
   "outputs": [],
   "source": []
  }
 ],
 "metadata": {
  "kernelspec": {
   "display_name": "Python 3 (ipykernel)",
   "language": "python",
   "name": "python3"
  },
  "language_info": {
   "codemirror_mode": {
    "name": "ipython",
    "version": 3
   },
   "file_extension": ".py",
   "mimetype": "text/x-python",
   "name": "python",
   "nbconvert_exporter": "python",
   "pygments_lexer": "ipython3",
   "version": "3.10.7"
  }
 },
 "nbformat": 4,
 "nbformat_minor": 5
}
